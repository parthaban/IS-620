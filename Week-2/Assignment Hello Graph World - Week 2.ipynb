{
 "cells": [
  {
   "cell_type": "code",
   "execution_count": 1,
   "metadata": {
    "collapsed": false
   },
   "outputs": [],
   "source": [
    "%matplotlib inline\n",
    "\n",
    "import matplotlib\n",
    "import PySide\n",
    "import matplotlib.pyplot as plt\n",
    "import networkx as nx\n",
    "from networkx.generators.classic import empty_graph, cycle_graph, path_graph, complete_graph\n",
    "from networkx.exception import NetworkXError"
   ]
  },
  {
   "cell_type": "code",
   "execution_count": 2,
   "metadata": {
    "collapsed": true
   },
   "outputs": [],
   "source": [
    "#------------------------------------------------------------------------------\n",
    "#   Tools for creating small graphs\n",
    "#------------------------------------------------------------------------------\n",
    "def make_small_undirected_graph(graph_description, create_using=None):\n",
    "    # Return a small undirected graph described by graph_description.\n",
    "    if create_using is not None and create_using.is_directed():\n",
    "        raise NetworkXError(\"Directed Graph not supported\")\n",
    "    return make_small_graph(graph_description, create_using)\n",
    "\n",
    "def make_small_graph(graph_description, create_using=None):\n",
    "    # Return the small graph described by graph_description.\n",
    "    ltype=graph_description[0]\n",
    "    name=graph_description[1]\n",
    "    n=graph_description[2]\n",
    "\n",
    "    G=empty_graph(n, create_using)\n",
    "    nodes=G.nodes()\n",
    "\n",
    "    if ltype==\"adjacencylist\":\n",
    "        adjlist=graph_description[3]\n",
    "        if len(adjlist) != n:\n",
    "            raise NetworkXError(\"invalid graph_description\")\n",
    "        G.add_edges_from([(u-1,v) for v in nodes for u in adjlist[v]])\n",
    "    elif ltype==\"edgelist\":\n",
    "        edgelist=graph_description[3]\n",
    "        for e in edgelist:\n",
    "            v1=e[0]-1\n",
    "            v2=e[1]-1\n",
    "            if v1<0 or v1>n-1 or v2<0 or v2>n-1:\n",
    "                raise NetworkXError(\"invalid graph_description\")\n",
    "            else:\n",
    "                G.add_edge(v1,v2)\n",
    "    G.name=name\n",
    "    return G"
   ]
  },
  {
   "cell_type": "code",
   "execution_count": 3,
   "metadata": {
    "collapsed": false
   },
   "outputs": [],
   "source": [
    "\"\"\"\n",
    "A 10 actor social network introduced by David Krackhardt\n",
    "to illustrate: degree, betweenness, centrality, closeness, etc. \n",
    "The traditional labeling is:\n",
    "Andre=1, Beverley=2, Carol=3, Diane=4,\n",
    "Ed=5, Fernando=6, Garth=7, Heather=8, Ike=9, Jane=10.\n",
    "\"\"\"\n",
    "\n",
    "description=[\n",
    "        \"adjacencylist\",\n",
    "        \"Krackhardt Kite Social Network\",\n",
    "        10,\n",
    "        [[2,3,4,6],[1,4,5,7],[1,4,6],[1,2,3,5,6,7],[2,4,7],\n",
    "         [1,3,4,7,8],[2,4,5,6,8],[6,7,9],[8,10],[9]]\n",
    "         ]\n",
    "\n",
    "G=make_small_undirected_graph(description, None)"
   ]
  },
  {
   "cell_type": "code",
   "execution_count": 4,
   "metadata": {
    "collapsed": false
   },
   "outputs": [
    {
     "data": {
      "text/plain": [
       "10"
      ]
     },
     "execution_count": 4,
     "metadata": {},
     "output_type": "execute_result"
    }
   ],
   "source": [
    "G.number_of_nodes()"
   ]
  },
  {
   "cell_type": "code",
   "execution_count": 5,
   "metadata": {
    "collapsed": false
   },
   "outputs": [
    {
     "data": {
      "text/plain": [
       "18"
      ]
     },
     "execution_count": 5,
     "metadata": {},
     "output_type": "execute_result"
    }
   ],
   "source": [
    "G.number_of_edges()"
   ]
  },
  {
   "cell_type": "code",
   "execution_count": 6,
   "metadata": {
    "collapsed": false
   },
   "outputs": [
    {
     "data": {
      "image/png": "[encoded data removed]",
      "text/plain": [
       "<matplotlib.figure.Figure at 0xab49ba8>"
      ]
     },
     "metadata": {},
     "output_type": "display_data"
    }
   ],
   "source": [
    "plt.axis('off')\n",
    "pos=nx.spring_layout(G)\n",
    "nx.draw(G,pos)\n",
    "labels=nx.draw_networkx_labels(G,pos)\n",
    "plt.show()"
   ]
  }
 ],
 "metadata": {
  "kernelspec": {
   "display_name": "Python 2",
   "language": "python",
   "name": "python2"
  },
  "language_info": {
   "codemirror_mode": {
    "name": "ipython",
    "version": 2
   },
   "file_extension": ".py",
   "mimetype": "text/x-python",
   "name": "python",
   "nbconvert_exporter": "python",
   "pygments_lexer": "ipython2",
   "version": "2.7.10"
  }
 },
 "nbformat": 4,
 "nbformat_minor": 0
}
