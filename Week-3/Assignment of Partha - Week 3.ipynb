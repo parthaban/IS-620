{
 "cells": [
  {
   "cell_type": "markdown",
   "metadata": {},
   "source": [
    "#  2015 Fall Term: Web Analytics IS 620\n",
    "    \n",
    "## Week Three - Network Analysis: Graph Theory, Definitions\n",
    "\n",
    "### Author: Partha Banerjee"
   ]
  },
  {
   "cell_type": "code",
   "execution_count": 1,
   "metadata": {
    "collapsed": true
   },
   "outputs": [],
   "source": [
    "%matplotlib inline\n",
    "\n",
    "import Tkinter, tkFileDialog, csv, sys\n",
    "import networkx as nx\n",
    "import matplotlib.pyplot as plt\n",
    "g=nx.Graph()"
   ]
  },
  {
   "cell_type": "markdown",
   "metadata": {},
   "source": [
    "#### 1. Load a graph database of your choosing from a text file or other source.  If you take a large network dataset from the web (such as from https://snap.stanford.edu/data/), please feel free at this point to load just a small subset of the nodes and edges."
   ]
  },
  {
   "cell_type": "code",
   "execution_count": 2,
   "metadata": {
    "collapsed": false
   },
   "outputs": [
    {
     "name": "stdout",
     "output_type": "stream",
     "text": [
      "Total fromNode in datafile C:\\Partho\\MSDA\\Dropbox\\IS 620 Web Analytics\\Wk 3 - Network Analysis Graph Theory, Definitions\\CA-GrQc-mod.csv: 5\n",
      "Total toNode in datafile  C:\\Partho\\MSDA\\Dropbox\\IS 620 Web Analytics\\Wk 3 - Network Analysis Graph Theory, Definitions\\CA-GrQc-mod.csv: 15\n",
      "\n"
     ]
    }
   ],
   "source": [
    "try:\n",
    "    # Read datafile name with path\n",
    "    input_file = tkFileDialog.askopenfilename()\n",
    "    \n",
    "    # This input file has downloaded from https://snap.stanford.edu/data/ca-GrQc.html\n",
    "    # Directed graph (each unordered pair of nodes is saved once): CA-GrQc.txt \n",
    "    # Collaboration network of Arxiv General Relativity category (there is an edge if authors coauthored at least one paper)\n",
    "    # Nodes: 5242 Edges: 28980\n",
    "\n",
    "    # Modified the datafile (by deleting records to reduce the execution time), CA-GrQc-mod.csv has used\n",
    "    #input_file = \"C:\\\\Partho\\\\MSDA\\\\Dropbox\\\\IS 620 Web Analytics\\Wk 3 - Network Analysis Graph Theory, Definitions\\\\CA-GrQc-mod.csv\"\n",
    "\n",
    "    # Read file\n",
    "    fromNode = []\n",
    "    toNode = []\n",
    "    with open(input_file, \"r\") as fl:\n",
    "        allrecs = csv.reader(fl)\n",
    "        next(allrecs, None)             # Skip header\n",
    "        try:\n",
    "            count = 0\n",
    "            for row in allrecs:\n",
    "                # Keep it small, take only 100 records\n",
    "                if (count==100):\n",
    "                    break\n",
    "                if row[0] not in fromNode:\n",
    "                    fromNode.append(row[0])\n",
    "                    g.add_node(row[0])\n",
    "                if row[1] not in toNode:\n",
    "                    toNode.append(row[1])\n",
    "                    g.add_node(row[1])\n",
    "                g.add_edge(row[0],row[1])\n",
    "                count += 1\n",
    "        except csv.Error as er:\n",
    "            sys.exit('File %s, line %d: %s' % (input_file, allrecs.line_num, er))\n",
    "            exit(-1)\n",
    "        except IndexError:\n",
    "            print \"Data Error, exiting...\"\n",
    "            exit(1)\n",
    "\n",
    "    # Take only unique data values\n",
    "    fromNode = set(fromNode)\n",
    "    toNode = set(toNode)\n",
    "    \n",
    "    N = len(fromNode)\n",
    "    if N > 0:\n",
    "        print \"Total fromNode in datafile %s: %d\" % (input_file, len(fromNode))\n",
    "        print \"Total toNode in datafile  %s: %d\" % (input_file, len(toNode))\n",
    "        print\n",
    "    else:\n",
    "        print \"Datafile has no fromNode data in it, Exiting...\"\n",
    "except IOError:\n",
    "    # User presses Cancel button instead of selecting a file\n",
    "    print \"Sorry, you have aborted File selection option!!!\""
   ]
  },
  {
   "cell_type": "code",
   "execution_count": 3,
   "metadata": {
    "collapsed": false
   },
   "outputs": [
    {
     "data": {
      "text/plain": [
       "{'10310', '3466', '4472', '5052', '5346'}"
      ]
     },
     "execution_count": 3,
     "metadata": {},
     "output_type": "execute_result"
    }
   ],
   "source": [
    "fromNode"
   ]
  },
  {
   "cell_type": "markdown",
   "metadata": {},
   "source": [
    "#### 2. Create basic analysis on the graph, including the graph’s diameter, and at least one other metric of your choosing.  You may either code the functions by hand (to build your intuition and insight), or use functions in an existing package. "
   ]
  },
  {
   "cell_type": "code",
   "execution_count": 4,
   "metadata": {
    "collapsed": false
   },
   "outputs": [
    {
     "data": {
      "image/png": "[encoded data removed]",
      "text/plain": [
       "<matplotlib.figure.Figure at 0xa886978>"
      ]
     },
     "metadata": {},
     "output_type": "display_data"
    }
   ],
   "source": [
    "pos=nx.spring_layout(g)\n",
    "nx.draw(g,pos)\n",
    "labels=nx.draw_networkx_labels(g,pos)\n",
    "plt.show()"
   ]
  },
  {
   "cell_type": "markdown",
   "metadata": {},
   "source": [
    "Readability with label is bad, unable to find ways to resize the graph height/size. So putting the same graph without label below."
   ]
  },
  {
   "cell_type": "code",
   "execution_count": 5,
   "metadata": {
    "collapsed": false
   },
   "outputs": [
    {
     "data": {
      "image/png": "[encoded data removed]",
      "text/plain": [
       "<matplotlib.figure.Figure at 0x3a59390>"
      ]
     },
     "metadata": {},
     "output_type": "display_data"
    }
   ],
   "source": [
    "pos=nx.spring_layout(g)\n",
    "nx.draw(g,pos)\n",
    "plt.show()"
   ]
  },
  {
   "cell_type": "code",
   "execution_count": 6,
   "metadata": {
    "collapsed": false
   },
   "outputs": [
    {
     "data": {
      "text/plain": [
       "[('3466', '10310'),\n",
       " ('10310', '5346'),\n",
       " ('5346', '4822'),\n",
       " ('5346', '1658'),\n",
       " ('5346', '6864'),\n",
       " ('5346', '4472'),\n",
       " ('4472', '9124'),\n",
       " ('4472', '10235'),\n",
       " ('4472', '6376'),\n",
       " ('5346', '5052'),\n",
       " ('5052', '5740'),\n",
       " ('5052', '6094'),\n",
       " ('5052', '10427'),\n",
       " ('10310', '5233'),\n",
       " ('10310', '4583'),\n",
       " ('3466', '8579')]"
      ]
     },
     "execution_count": 6,
     "metadata": {},
     "output_type": "execute_result"
    }
   ],
   "source": [
    "# Now let us check few matrices - starting with the DFS\n",
    "from networkx import algorithms\n",
    "from networkx.algorithms import traversal\n",
    "edges = traversal.dfs_edges(g)\n",
    "list(edges)"
   ]
  },
  {
   "cell_type": "code",
   "execution_count": 7,
   "metadata": {
    "collapsed": false
   },
   "outputs": [
    {
     "data": {
      "text/plain": [
       "{'10310': ['5346', '5233', '4583'],\n",
       " '3466': ['10310', '8579'],\n",
       " '4472': ['9124', '10235', '6376'],\n",
       " '5052': ['5740', '6094', '10427'],\n",
       " '5346': ['4822', '1658', '6864', '4472', '5052']}"
      ]
     },
     "execution_count": 7,
     "metadata": {},
     "output_type": "execute_result"
    }
   ],
   "source": [
    "traversal.dfs_successors(g)"
   ]
  },
  {
   "cell_type": "code",
   "execution_count": 8,
   "metadata": {
    "collapsed": false
   },
   "outputs": [
    {
     "data": {
      "text/plain": [
       "{'10235': {},\n",
       " '10310': {'3466': {}, '4583': {}, '5346': {}},\n",
       " '10427': {},\n",
       " '1658': {},\n",
       " '3466': {'5233': {}, '8579': {}},\n",
       " '4472': {'10235': {}, '6376': {}, '9124': {}},\n",
       " '4583': {},\n",
       " '4822': {},\n",
       " '5052': {'10427': {}, '5740': {}, '6094': {}},\n",
       " '5233': {},\n",
       " '5346': {'1658': {}, '4472': {}, '4822': {}, '5052': {}, '6864': {}},\n",
       " '5740': {},\n",
       " '6094': {},\n",
       " '6376': {},\n",
       " '6864': {},\n",
       " '8579': {},\n",
       " '9124': {}}"
      ]
     },
     "execution_count": 8,
     "metadata": {},
     "output_type": "execute_result"
    }
   ],
   "source": [
    "tree = traversal.dfs_tree(g, '10310')\n",
    "tree.succ"
   ]
  },
  {
   "cell_type": "code",
   "execution_count": 9,
   "metadata": {
    "collapsed": false
   },
   "outputs": [
    {
     "data": {
      "text/plain": [
       "[('10310', '3466'),\n",
       " ('10310', '5346'),\n",
       " ('10310', '5233'),\n",
       " ('10310', '4583'),\n",
       " ('3466', '8579'),\n",
       " ('5346', '4822'),\n",
       " ('5346', '1658'),\n",
       " ('5346', '6864'),\n",
       " ('5346', '4472'),\n",
       " ('5346', '5052'),\n",
       " ('4472', '9124'),\n",
       " ('4472', '10235'),\n",
       " ('4472', '6376'),\n",
       " ('5052', '5740'),\n",
       " ('5052', '6094'),\n",
       " ('5052', '10427')]"
      ]
     },
     "execution_count": 9,
     "metadata": {},
     "output_type": "execute_result"
    }
   ],
   "source": [
    "edges = traversal.bfs_edges(g, '10310')\n",
    "list(edges)"
   ]
  },
  {
   "cell_type": "code",
   "execution_count": 10,
   "metadata": {
    "collapsed": false
   },
   "outputs": [
    {
     "data": {
      "text/plain": [
       "{'10310': ['3466', '5346', '5233', '4583'],\n",
       " '3466': ['8579'],\n",
       " '4472': ['9124', '10235', '6376'],\n",
       " '5052': ['5740', '6094', '10427'],\n",
       " '5346': ['4822', '1658', '6864', '4472', '5052']}"
      ]
     },
     "execution_count": 10,
     "metadata": {},
     "output_type": "execute_result"
    }
   ],
   "source": [
    "traversal.bfs_successors(g, '10310')"
   ]
  },
  {
   "cell_type": "code",
   "execution_count": 11,
   "metadata": {
    "collapsed": false
   },
   "outputs": [
    {
     "data": {
      "text/plain": [
       "{'10310': ['3466', '5346', '4583'],\n",
       " '3466': ['5233', '8579'],\n",
       " '4472': ['9124', '10235', '6376'],\n",
       " '5052': ['5740', '6094', '10427'],\n",
       " '5346': ['4822', '1658', '6864', '4472', '5052']}"
      ]
     },
     "execution_count": 11,
     "metadata": {},
     "output_type": "execute_result"
    }
   ],
   "source": [
    "traversal.dfs_successors(g, '10310')"
   ]
  },
  {
   "cell_type": "code",
   "execution_count": 12,
   "metadata": {
    "collapsed": false
   },
   "outputs": [
    {
     "data": {
      "text/plain": [
       "['10310', '5346', '4472']"
      ]
     },
     "execution_count": 12,
     "metadata": {},
     "output_type": "execute_result"
    }
   ],
   "source": [
    "algorithms.shortest_path(g,'10310','4472')"
   ]
  },
  {
   "cell_type": "code",
   "execution_count": 13,
   "metadata": {
    "collapsed": false
   },
   "outputs": [
    {
     "data": {
      "text/plain": [
       "2.823529411764706"
      ]
     },
     "execution_count": 13,
     "metadata": {},
     "output_type": "execute_result"
    }
   ],
   "source": [
    "algorithms.average_shortest_path_length(g)"
   ]
  },
  {
   "cell_type": "markdown",
   "metadata": {},
   "source": [
    "End of Homework, \\#3 is due for presentation on Thu 9/17 meetup."
   ]
  }
 ],
 "metadata": {
  "kernelspec": {
   "display_name": "Python 2",
   "language": "python",
   "name": "python2"
  },
  "language_info": {
   "codemirror_mode": {
    "name": "ipython",
    "version": 2
   },
   "file_extension": ".py",
   "mimetype": "text/x-python",
   "name": "python",
   "nbconvert_exporter": "python",
   "pygments_lexer": "ipython2",
   "version": "2.7.10"
  }
 },
 "nbformat": 4,
 "nbformat_minor": 0
}
